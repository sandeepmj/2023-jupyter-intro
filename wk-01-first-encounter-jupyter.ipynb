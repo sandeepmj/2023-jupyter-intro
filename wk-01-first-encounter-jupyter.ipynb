{
 "cells": [
  {
   "cell_type": "markdown",
   "id": "c2e546d2",
   "metadata": {},
   "source": [
    "# Working with iPython notebooks \n",
    "\n",
    "### Code v. Markup\n",
    "\n",
    "Let's explore these basic concepts in this notebook"
   ]
  },
  {
   "cell_type": "code",
   "execution_count": 1,
   "id": "cc712c35",
   "metadata": {},
   "outputs": [
    {
     "name": "stdout",
     "output_type": "stream",
     "text": [
      "Hello World\n"
     ]
    }
   ],
   "source": [
    "## Traditional kickoff for learning to code\n",
    "print(\"Hello World\")"
   ]
  },
  {
   "cell_type": "code",
   "execution_count": 4,
   "id": "7de21b7c",
   "metadata": {},
   "outputs": [
    {
     "name": "stdout",
     "output_type": "stream",
     "text": [
      "zsh:1: command not found: python\r\n"
     ]
    }
   ],
   "source": [
    "## check what version of Python i have on my computer\n",
    "!python --version"
   ]
  },
  {
   "cell_type": "code",
   "execution_count": 3,
   "id": "99830480",
   "metadata": {},
   "outputs": [
    {
     "data": {
      "text/plain": [
       "4"
      ]
     },
     "execution_count": 3,
     "metadata": {},
     "output_type": "execute_result"
    }
   ],
   "source": [
    "## validating addition\n",
    "2 + 2"
   ]
  },
  {
   "cell_type": "code",
   "execution_count": 4,
   "id": "0bdef1bb",
   "metadata": {},
   "outputs": [
    {
     "data": {
      "text/plain": [
       "5.0"
      ]
     },
     "execution_count": 4,
     "metadata": {},
     "output_type": "execute_result"
    }
   ],
   "source": [
    "## simple division\n",
    "25 / 5"
   ]
  },
  {
   "cell_type": "code",
   "execution_count": 5,
   "id": "dd288678",
   "metadata": {},
   "outputs": [
    {
     "data": {
      "text/plain": [
       "1"
      ]
     },
     "execution_count": 5,
     "metadata": {},
     "output_type": "execute_result"
    }
   ],
   "source": [
    "## modulus\n",
    "\n",
    "25 % 2"
   ]
  },
  {
   "cell_type": "markdown",
   "id": "27da3e87",
   "metadata": {},
   "source": [
    "## List of favorite fruit\n",
    "\n",
    "Here are Sandeep's favorite fruits:\n",
    "\n",
    "* Apples\n",
    "* Oranges\n",
    "* Bananas\n",
    "\n",
    "## Source of data:\n",
    "I found this data on the <a href=\"https://www.census.gov\">us census site</a>.\n",
    "\n",
    "Another way would be to provide the [link like this](https://www.census.gov)"
   ]
  },
  {
   "cell_type": "code",
   "execution_count": null,
   "id": "a9b01547",
   "metadata": {},
   "outputs": [],
   "source": []
  }
 ],
 "metadata": {
  "kernelspec": {
   "display_name": "Python 3 (ipykernel)",
   "language": "python",
   "name": "python3"
  },
  "language_info": {
   "codemirror_mode": {
    "name": "ipython",
    "version": 3
   },
   "file_extension": ".py",
   "mimetype": "text/x-python",
   "name": "python",
   "nbconvert_exporter": "python",
   "pygments_lexer": "ipython3",
   "version": "3.9.7"
  }
 },
 "nbformat": 4,
 "nbformat_minor": 5
}
